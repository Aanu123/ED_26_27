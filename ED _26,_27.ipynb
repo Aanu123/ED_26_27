{
 "cells": [
  {
   "cell_type": "code",
   "execution_count": 28,
   "id": "c44c13bc",
   "metadata": {},
   "outputs": [],
   "source": [
    "import pandas as pd\n",
    "import numpy as np\n",
    "from matplotlib import pyplot as plt\n",
    "import seaborn as sns\n",
    "import statsmodels.api as sn\n",
    "from pandas.plotting import scatter_matrix"
   ]
  },
  {
   "cell_type": "code",
   "execution_count": 2,
   "id": "5b72e81e",
   "metadata": {},
   "outputs": [
    {
     "name": "stderr",
     "output_type": "stream",
     "text": [
      "C:\\Users\\user\\AppData\\Local\\Temp\\ipykernel_8972\\2545821595.py:1: DtypeWarning: Columns (0) have mixed types. Specify dtype option on import or set low_memory=False.\n",
      "  df=pd.read_csv('UK_Traffic_Accidents_2015.CSV')\n"
     ]
    }
   ],
   "source": [
    "df=pd.read_csv('UK_Traffic_Accidents_2015.CSV')"
   ]
  },
  {
   "cell_type": "code",
   "execution_count": 31,
   "id": "6a5794b7",
   "metadata": {
    "scrolled": true
   },
   "outputs": [
    {
     "data": {
      "text/html": [
       "<div>\n",
       "<style scoped>\n",
       "    .dataframe tbody tr th:only-of-type {\n",
       "        vertical-align: middle;\n",
       "    }\n",
       "\n",
       "    .dataframe tbody tr th {\n",
       "        vertical-align: top;\n",
       "    }\n",
       "\n",
       "    .dataframe thead th {\n",
       "        text-align: right;\n",
       "    }\n",
       "</style>\n",
       "<table border=\"1\" class=\"dataframe\">\n",
       "  <thead>\n",
       "    <tr style=\"text-align: right;\">\n",
       "      <th></th>\n",
       "      <th>Location_Easting_OSGR</th>\n",
       "      <th>Location_Northing_OSGR</th>\n",
       "      <th>Longitude</th>\n",
       "      <th>Latitude</th>\n",
       "      <th>Police_Force</th>\n",
       "      <th>Accident_Severity</th>\n",
       "      <th>Number_of_Vehicles</th>\n",
       "      <th>Number_of_Casualties</th>\n",
       "      <th>Day_of_Week</th>\n",
       "      <th>Local_Authority_(District)</th>\n",
       "      <th>...</th>\n",
       "      <th>2nd_Road_Number</th>\n",
       "      <th>Pedestrian_Crossing-Human_Control</th>\n",
       "      <th>Pedestrian_Crossing-Physical_Facilities</th>\n",
       "      <th>Light_Conditions</th>\n",
       "      <th>Weather_Conditions</th>\n",
       "      <th>Road_Surface_Conditions</th>\n",
       "      <th>Special_Conditions_at_Site</th>\n",
       "      <th>Carriageway_Hazards</th>\n",
       "      <th>Urban_or_Rural_Area</th>\n",
       "      <th>Did_Police_Officer_Attend_Scene_of_Accident</th>\n",
       "    </tr>\n",
       "  </thead>\n",
       "  <tbody>\n",
       "    <tr>\n",
       "      <th>count</th>\n",
       "      <td>140029.000000</td>\n",
       "      <td>1.400290e+05</td>\n",
       "      <td>140029.000000</td>\n",
       "      <td>140029.000000</td>\n",
       "      <td>140056.000000</td>\n",
       "      <td>140056.000000</td>\n",
       "      <td>140056.000000</td>\n",
       "      <td>140056.000000</td>\n",
       "      <td>140056.000000</td>\n",
       "      <td>140056.000000</td>\n",
       "      <td>...</td>\n",
       "      <td>140056.000000</td>\n",
       "      <td>140056.000000</td>\n",
       "      <td>140056.000000</td>\n",
       "      <td>140056.000000</td>\n",
       "      <td>140056.000000</td>\n",
       "      <td>140056.000000</td>\n",
       "      <td>140056.000000</td>\n",
       "      <td>140056.000000</td>\n",
       "      <td>140056.000000</td>\n",
       "      <td>140056.000000</td>\n",
       "    </tr>\n",
       "    <tr>\n",
       "      <th>mean</th>\n",
       "      <td>446913.896086</td>\n",
       "      <td>2.899043e+05</td>\n",
       "      <td>-1.330458</td>\n",
       "      <td>52.496743</td>\n",
       "      <td>29.902046</td>\n",
       "      <td>2.833852</td>\n",
       "      <td>1.841014</td>\n",
       "      <td>1.329390</td>\n",
       "      <td>4.094962</td>\n",
       "      <td>343.648905</td>\n",
       "      <td>...</td>\n",
       "      <td>362.907751</td>\n",
       "      <td>0.007197</td>\n",
       "      <td>0.838807</td>\n",
       "      <td>1.952041</td>\n",
       "      <td>1.511531</td>\n",
       "      <td>1.298866</td>\n",
       "      <td>0.098839</td>\n",
       "      <td>0.061754</td>\n",
       "      <td>1.342549</td>\n",
       "      <td>1.198506</td>\n",
       "    </tr>\n",
       "    <tr>\n",
       "      <th>std</th>\n",
       "      <td>94893.264196</td>\n",
       "      <td>1.577932e+05</td>\n",
       "      <td>1.393585</td>\n",
       "      <td>1.420984</td>\n",
       "      <td>25.217637</td>\n",
       "      <td>0.402020</td>\n",
       "      <td>0.710046</td>\n",
       "      <td>0.795427</td>\n",
       "      <td>1.911279</td>\n",
       "      <td>258.438367</td>\n",
       "      <td>...</td>\n",
       "      <td>1263.418993</td>\n",
       "      <td>0.123806</td>\n",
       "      <td>1.931975</td>\n",
       "      <td>1.653867</td>\n",
       "      <td>1.519799</td>\n",
       "      <td>0.554714</td>\n",
       "      <td>0.697925</td>\n",
       "      <td>0.574448</td>\n",
       "      <td>0.474564</td>\n",
       "      <td>0.405991</td>\n",
       "    </tr>\n",
       "    <tr>\n",
       "      <th>min</th>\n",
       "      <td>70860.000000</td>\n",
       "      <td>1.062800e+04</td>\n",
       "      <td>-7.422915</td>\n",
       "      <td>49.915618</td>\n",
       "      <td>1.000000</td>\n",
       "      <td>1.000000</td>\n",
       "      <td>1.000000</td>\n",
       "      <td>1.000000</td>\n",
       "      <td>1.000000</td>\n",
       "      <td>1.000000</td>\n",
       "      <td>...</td>\n",
       "      <td>-1.000000</td>\n",
       "      <td>-1.000000</td>\n",
       "      <td>-1.000000</td>\n",
       "      <td>1.000000</td>\n",
       "      <td>1.000000</td>\n",
       "      <td>-1.000000</td>\n",
       "      <td>-1.000000</td>\n",
       "      <td>-1.000000</td>\n",
       "      <td>1.000000</td>\n",
       "      <td>-1.000000</td>\n",
       "    </tr>\n",
       "    <tr>\n",
       "      <th>25%</th>\n",
       "      <td>385626.000000</td>\n",
       "      <td>1.766380e+05</td>\n",
       "      <td>-2.216068</td>\n",
       "      <td>51.475197</td>\n",
       "      <td>6.000000</td>\n",
       "      <td>3.000000</td>\n",
       "      <td>1.000000</td>\n",
       "      <td>1.000000</td>\n",
       "      <td>2.000000</td>\n",
       "      <td>104.000000</td>\n",
       "      <td>...</td>\n",
       "      <td>0.000000</td>\n",
       "      <td>0.000000</td>\n",
       "      <td>0.000000</td>\n",
       "      <td>1.000000</td>\n",
       "      <td>1.000000</td>\n",
       "      <td>1.000000</td>\n",
       "      <td>0.000000</td>\n",
       "      <td>0.000000</td>\n",
       "      <td>1.000000</td>\n",
       "      <td>1.000000</td>\n",
       "    </tr>\n",
       "    <tr>\n",
       "      <th>50%</th>\n",
       "      <td>451460.000000</td>\n",
       "      <td>2.408860e+05</td>\n",
       "      <td>-1.236156</td>\n",
       "      <td>52.051875</td>\n",
       "      <td>30.000000</td>\n",
       "      <td>3.000000</td>\n",
       "      <td>2.000000</td>\n",
       "      <td>1.000000</td>\n",
       "      <td>4.000000</td>\n",
       "      <td>323.000000</td>\n",
       "      <td>...</td>\n",
       "      <td>0.000000</td>\n",
       "      <td>0.000000</td>\n",
       "      <td>0.000000</td>\n",
       "      <td>1.000000</td>\n",
       "      <td>1.000000</td>\n",
       "      <td>1.000000</td>\n",
       "      <td>0.000000</td>\n",
       "      <td>0.000000</td>\n",
       "      <td>1.000000</td>\n",
       "      <td>1.000000</td>\n",
       "    </tr>\n",
       "    <tr>\n",
       "      <th>75%</th>\n",
       "      <td>526760.000000</td>\n",
       "      <td>3.911840e+05</td>\n",
       "      <td>-0.172506</td>\n",
       "      <td>53.414614</td>\n",
       "      <td>45.000000</td>\n",
       "      <td>3.000000</td>\n",
       "      <td>2.000000</td>\n",
       "      <td>1.000000</td>\n",
       "      <td>6.000000</td>\n",
       "      <td>517.000000</td>\n",
       "      <td>...</td>\n",
       "      <td>0.000000</td>\n",
       "      <td>0.000000</td>\n",
       "      <td>0.000000</td>\n",
       "      <td>4.000000</td>\n",
       "      <td>1.000000</td>\n",
       "      <td>2.000000</td>\n",
       "      <td>0.000000</td>\n",
       "      <td>0.000000</td>\n",
       "      <td>2.000000</td>\n",
       "      <td>1.000000</td>\n",
       "    </tr>\n",
       "    <tr>\n",
       "      <th>max</th>\n",
       "      <td>655282.000000</td>\n",
       "      <td>1.197917e+06</td>\n",
       "      <td>1.758443</td>\n",
       "      <td>60.661117</td>\n",
       "      <td>98.000000</td>\n",
       "      <td>3.000000</td>\n",
       "      <td>37.000000</td>\n",
       "      <td>38.000000</td>\n",
       "      <td>7.000000</td>\n",
       "      <td>941.000000</td>\n",
       "      <td>...</td>\n",
       "      <td>9999.000000</td>\n",
       "      <td>2.000000</td>\n",
       "      <td>8.000000</td>\n",
       "      <td>7.000000</td>\n",
       "      <td>9.000000</td>\n",
       "      <td>5.000000</td>\n",
       "      <td>7.000000</td>\n",
       "      <td>7.000000</td>\n",
       "      <td>2.000000</td>\n",
       "      <td>3.000000</td>\n",
       "    </tr>\n",
       "  </tbody>\n",
       "</table>\n",
       "<p>8 rows × 27 columns</p>\n",
       "</div>"
      ],
      "text/plain": [
       "       Location_Easting_OSGR  Location_Northing_OSGR      Longitude  \\\n",
       "count          140029.000000            1.400290e+05  140029.000000   \n",
       "mean           446913.896086            2.899043e+05      -1.330458   \n",
       "std             94893.264196            1.577932e+05       1.393585   \n",
       "min             70860.000000            1.062800e+04      -7.422915   \n",
       "25%            385626.000000            1.766380e+05      -2.216068   \n",
       "50%            451460.000000            2.408860e+05      -1.236156   \n",
       "75%            526760.000000            3.911840e+05      -0.172506   \n",
       "max            655282.000000            1.197917e+06       1.758443   \n",
       "\n",
       "            Latitude   Police_Force  Accident_Severity  Number_of_Vehicles  \\\n",
       "count  140029.000000  140056.000000      140056.000000       140056.000000   \n",
       "mean       52.496743      29.902046           2.833852            1.841014   \n",
       "std         1.420984      25.217637           0.402020            0.710046   \n",
       "min        49.915618       1.000000           1.000000            1.000000   \n",
       "25%        51.475197       6.000000           3.000000            1.000000   \n",
       "50%        52.051875      30.000000           3.000000            2.000000   \n",
       "75%        53.414614      45.000000           3.000000            2.000000   \n",
       "max        60.661117      98.000000           3.000000           37.000000   \n",
       "\n",
       "       Number_of_Casualties    Day_of_Week  Local_Authority_(District)  ...  \\\n",
       "count         140056.000000  140056.000000               140056.000000  ...   \n",
       "mean               1.329390       4.094962                  343.648905  ...   \n",
       "std                0.795427       1.911279                  258.438367  ...   \n",
       "min                1.000000       1.000000                    1.000000  ...   \n",
       "25%                1.000000       2.000000                  104.000000  ...   \n",
       "50%                1.000000       4.000000                  323.000000  ...   \n",
       "75%                1.000000       6.000000                  517.000000  ...   \n",
       "max               38.000000       7.000000                  941.000000  ...   \n",
       "\n",
       "       2nd_Road_Number  Pedestrian_Crossing-Human_Control  \\\n",
       "count    140056.000000                      140056.000000   \n",
       "mean        362.907751                           0.007197   \n",
       "std        1263.418993                           0.123806   \n",
       "min          -1.000000                          -1.000000   \n",
       "25%           0.000000                           0.000000   \n",
       "50%           0.000000                           0.000000   \n",
       "75%           0.000000                           0.000000   \n",
       "max        9999.000000                           2.000000   \n",
       "\n",
       "       Pedestrian_Crossing-Physical_Facilities  Light_Conditions  \\\n",
       "count                            140056.000000     140056.000000   \n",
       "mean                                  0.838807          1.952041   \n",
       "std                                   1.931975          1.653867   \n",
       "min                                  -1.000000          1.000000   \n",
       "25%                                   0.000000          1.000000   \n",
       "50%                                   0.000000          1.000000   \n",
       "75%                                   0.000000          4.000000   \n",
       "max                                   8.000000          7.000000   \n",
       "\n",
       "       Weather_Conditions  Road_Surface_Conditions  \\\n",
       "count       140056.000000            140056.000000   \n",
       "mean             1.511531                 1.298866   \n",
       "std              1.519799                 0.554714   \n",
       "min              1.000000                -1.000000   \n",
       "25%              1.000000                 1.000000   \n",
       "50%              1.000000                 1.000000   \n",
       "75%              1.000000                 2.000000   \n",
       "max              9.000000                 5.000000   \n",
       "\n",
       "       Special_Conditions_at_Site  Carriageway_Hazards  Urban_or_Rural_Area  \\\n",
       "count               140056.000000        140056.000000        140056.000000   \n",
       "mean                     0.098839             0.061754             1.342549   \n",
       "std                      0.697925             0.574448             0.474564   \n",
       "min                     -1.000000            -1.000000             1.000000   \n",
       "25%                      0.000000             0.000000             1.000000   \n",
       "50%                      0.000000             0.000000             1.000000   \n",
       "75%                      0.000000             0.000000             2.000000   \n",
       "max                      7.000000             7.000000             2.000000   \n",
       "\n",
       "       Did_Police_Officer_Attend_Scene_of_Accident  \n",
       "count                                140056.000000  \n",
       "mean                                      1.198506  \n",
       "std                                       0.405991  \n",
       "min                                      -1.000000  \n",
       "25%                                       1.000000  \n",
       "50%                                       1.000000  \n",
       "75%                                       1.000000  \n",
       "max                                       3.000000  \n",
       "\n",
       "[8 rows x 27 columns]"
      ]
     },
     "execution_count": 31,
     "metadata": {},
     "output_type": "execute_result"
    }
   ],
   "source": [
    "df.describe()\n"
   ]
  },
  {
   "cell_type": "code",
   "execution_count": 32,
   "id": "8872b476",
   "metadata": {},
   "outputs": [
    {
     "name": "stdout",
     "output_type": "stream",
     "text": [
      "<class 'pandas.core.frame.DataFrame'>\n",
      "RangeIndex: 140056 entries, 0 to 140055\n",
      "Data columns (total 32 columns):\n",
      " #   Column                                       Non-Null Count   Dtype  \n",
      "---  ------                                       --------------   -----  \n",
      " 0   Accident_Index                               140056 non-null  object \n",
      " 1   Location_Easting_OSGR                        140029 non-null  float64\n",
      " 2   Location_Northing_OSGR                       140029 non-null  float64\n",
      " 3   Longitude                                    140029 non-null  float64\n",
      " 4   Latitude                                     140029 non-null  float64\n",
      " 5   Police_Force                                 140056 non-null  int64  \n",
      " 6   Accident_Severity                            140056 non-null  int64  \n",
      " 7   Number_of_Vehicles                           140056 non-null  int64  \n",
      " 8   Number_of_Casualties                         140056 non-null  int64  \n",
      " 9   Date                                         140056 non-null  object \n",
      " 10  Day_of_Week                                  140056 non-null  int64  \n",
      " 11  Time                                         140038 non-null  object \n",
      " 12  Local_Authority_(District)                   140056 non-null  int64  \n",
      " 13  Local_Authority_(Highway)                    140056 non-null  object \n",
      " 14  1st_Road_Class                               140056 non-null  int64  \n",
      " 15  1st_Road_Number                              140056 non-null  int64  \n",
      " 16  Road_Type                                    140056 non-null  int64  \n",
      " 17  Speed_limit                                  140056 non-null  int64  \n",
      " 18  Junction_Detail                              140056 non-null  int64  \n",
      " 19  Junction_Control                             140056 non-null  int64  \n",
      " 20  2nd_Road_Class                               140056 non-null  int64  \n",
      " 21  2nd_Road_Number                              140056 non-null  int64  \n",
      " 22  Pedestrian_Crossing-Human_Control            140056 non-null  int64  \n",
      " 23  Pedestrian_Crossing-Physical_Facilities      140056 non-null  int64  \n",
      " 24  Light_Conditions                             140056 non-null  int64  \n",
      " 25  Weather_Conditions                           140056 non-null  int64  \n",
      " 26  Road_Surface_Conditions                      140056 non-null  int64  \n",
      " 27  Special_Conditions_at_Site                   140056 non-null  int64  \n",
      " 28  Carriageway_Hazards                          140056 non-null  int64  \n",
      " 29  Urban_or_Rural_Area                          140056 non-null  int64  \n",
      " 30  Did_Police_Officer_Attend_Scene_of_Accident  140056 non-null  int64  \n",
      " 31  LSOA_of_Accident_Location                    131159 non-null  object \n",
      "dtypes: float64(4), int64(23), object(5)\n",
      "memory usage: 34.2+ MB\n"
     ]
    }
   ],
   "source": [
    "df.info()"
   ]
  },
  {
   "cell_type": "code",
   "execution_count": 34,
   "id": "9e169771",
   "metadata": {},
   "outputs": [
    {
     "name": "stdout",
     "output_type": "stream",
     "text": [
      "0         1\n",
      "1         1\n",
      "2         2\n",
      "3         1\n",
      "4         2\n",
      "         ..\n",
      "140051    1\n",
      "140052    1\n",
      "140053    4\n",
      "140054    2\n",
      "140055    3\n",
      "Name: Weather_Conditions, Length: 140056, dtype: int64\n"
     ]
    }
   ],
   "source": [
    "X=df['Weather_Conditions']\n",
    "new_data =df[['Weather_Conditions','Road_Surface_Conditions']]\n",
    "print(X)"
   ]
  },
  {
   "cell_type": "code",
   "execution_count": 39,
   "id": "96ddd74b",
   "metadata": {},
   "outputs": [
    {
     "data": {
      "text/plain": [
       "140047"
      ]
     },
     "execution_count": 39,
     "metadata": {},
     "output_type": "execute_result"
    }
   ],
   "source": [
    "new_data.duplicated().sum()\n",
    "X.duplicated().sum()"
   ]
  },
  {
   "cell_type": "code",
   "execution_count": 25,
   "id": "088881e1",
   "metadata": {},
   "outputs": [
    {
     "data": {
      "text/plain": [
       "Weather_Conditions            AxesSubplot(0.125,0.536818;0.352273x0.343182)\n",
       "Road_Surface_Conditions    AxesSubplot(0.547727,0.536818;0.352273x0.343182)\n",
       "dtype: object"
      ]
     },
     "execution_count": 25,
     "metadata": {},
     "output_type": "execute_result"
    },
    {
     "data": {
      "image/png": "[encoded data removed]",
      "text/plain": [
       "<Figure size 432x288 with 4 Axes>"
      ]
     },
     "metadata": {
      "needs_background": "light"
     },
     "output_type": "display_data"
    }
   ],
   "source": [
    "new_data.plot(kind='box',subplots=True,layout=(2,2),sharex=False,sharey=False)\n"
   ]
  },
  {
   "cell_type": "code",
   "execution_count": 26,
   "id": "819a5c52",
   "metadata": {},
   "outputs": [
    {
     "data": {
      "text/plain": [
       "array([[<AxesSubplot:title={'center':'Weather_Conditions'}>,\n",
       "        <AxesSubplot:title={'center':'Road_Surface_Conditions'}>]],\n",
       "      dtype=object)"
      ]
     },
     "execution_count": 26,
     "metadata": {},
     "output_type": "execute_result"
    },
    {
     "data": {
      "image/png": "[encoded data removed]",
      "text/plain": [
       "<Figure size 432x288 with 2 Axes>"
      ]
     },
     "metadata": {
      "needs_background": "light"
     },
     "output_type": "display_data"
    }
   ],
   "source": [
    "new_data.hist()"
   ]
  },
  {
   "cell_type": "code",
   "execution_count": 29,
   "id": "2420b3fa",
   "metadata": {},
   "outputs": [
    {
     "data": {
      "text/plain": [
       "array([[<AxesSubplot:xlabel='Weather_Conditions', ylabel='Weather_Conditions'>,\n",
       "        <AxesSubplot:xlabel='Road_Surface_Conditions', ylabel='Weather_Conditions'>],\n",
       "       [<AxesSubplot:xlabel='Weather_Conditions', ylabel='Road_Surface_Conditions'>,\n",
       "        <AxesSubplot:xlabel='Road_Surface_Conditions', ylabel='Road_Surface_Conditions'>]],\n",
       "      dtype=object)"
      ]
     },
     "execution_count": 29,
     "metadata": {},
     "output_type": "execute_result"
    },
    {
     "data": {
      "image/png": "[encoded data removed]",
      "text/plain": [
       "<Figure size 432x288 with 4 Axes>"
      ]
     },
     "metadata": {
      "needs_background": "light"
     },
     "output_type": "display_data"
    }
   ],
   "source": [
    "scatter_matrix(new_data)"
   ]
  },
  {
   "cell_type": "code",
   "execution_count": 40,
   "id": "607744a8",
   "metadata": {},
   "outputs": [
    {
     "data": {
      "text/html": [
       "<div>\n",
       "<style scoped>\n",
       "    .dataframe tbody tr th:only-of-type {\n",
       "        vertical-align: middle;\n",
       "    }\n",
       "\n",
       "    .dataframe tbody tr th {\n",
       "        vertical-align: top;\n",
       "    }\n",
       "\n",
       "    .dataframe thead th {\n",
       "        text-align: right;\n",
       "    }\n",
       "</style>\n",
       "<table border=\"1\" class=\"dataframe\">\n",
       "  <thead>\n",
       "    <tr style=\"text-align: right;\">\n",
       "      <th></th>\n",
       "      <th>Weather_Conditions</th>\n",
       "      <th>Road_Surface_Conditions</th>\n",
       "    </tr>\n",
       "  </thead>\n",
       "  <tbody>\n",
       "    <tr>\n",
       "      <th>Weather_Conditions</th>\n",
       "      <td>1.000000</td>\n",
       "      <td>0.259527</td>\n",
       "    </tr>\n",
       "    <tr>\n",
       "      <th>Road_Surface_Conditions</th>\n",
       "      <td>0.259527</td>\n",
       "      <td>1.000000</td>\n",
       "    </tr>\n",
       "  </tbody>\n",
       "</table>\n",
       "</div>"
      ],
      "text/plain": [
       "                         Weather_Conditions  Road_Surface_Conditions\n",
       "Weather_Conditions                 1.000000                 0.259527\n",
       "Road_Surface_Conditions            0.259527                 1.000000"
      ]
     },
     "execution_count": 40,
     "metadata": {},
     "output_type": "execute_result"
    }
   ],
   "source": [
    "new_data.corr()"
   ]
  },
  {
   "cell_type": "code",
   "execution_count": null,
   "id": "15c006cf",
   "metadata": {},
   "outputs": [],
   "source": []
  }
 ],
 "metadata": {
  "kernelspec": {
   "display_name": "Python 3 (ipykernel)",
   "language": "python",
   "name": "python3"
  },
  "language_info": {
   "codemirror_mode": {
    "name": "ipython",
    "version": 3
   },
   "file_extension": ".py",
   "mimetype": "text/x-python",
   "name": "python",
   "nbconvert_exporter": "python",
   "pygments_lexer": "ipython3",
   "version": "3.9.12"
  }
 },
 "nbformat": 4,
 "nbformat_minor": 5
}
